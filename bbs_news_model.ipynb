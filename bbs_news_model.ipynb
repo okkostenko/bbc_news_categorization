{
 "cells": [
  {
   "cell_type": "code",
   "execution_count": 1,
   "metadata": {},
   "outputs": [],
   "source": [
    "# Import dependencies\n",
    "import csv\n",
    "import os\n",
    "import numpy as np\n",
    "import pandas as pd\n",
    "import matplotlib.pyplot as plt\n",
    "import tensorflow as tf\n",
    "from tensorflow.keras.preprocessing.text import Tokenizer\n",
    "from tensorflow.keras.preprocessing.sequence import pad_sequences"
   ]
  },
  {
   "cell_type": "code",
   "execution_count": 3,
   "metadata": {},
   "outputs": [],
   "source": [
    "STOPWORDS = [\"a\", \"about\", \"above\", \"after\", \"again\", \"against\", \"all\", \"am\", \"an\", \"and\", \"any\", \"are\", \"as\", \"at\", \"be\", \"because\", \"been\", \"before\", \"being\", \"below\", \"between\", \"both\", \"but\", \"by\", \"could\", \"did\", \"do\", \"does\", \"doing\", \"down\", \"during\", \"each\", \"few\", \"for\", \"from\", \"further\", \"had\", \"has\", \"have\", \"having\", \"he\", \"he'd\", \"he'll\", \"he's\", \"her\", \"here\", \"here's\", \"hers\", \"herself\", \"him\", \"himself\", \"his\", \"how\", \"how's\", \"i\", \"i'd\", \"i'll\", \"i'm\", \"i've\", \"if\", \"in\", \"into\", \"is\", \"it\", \"it's\", \"its\", \"itself\", \"let's\", \"me\", \"more\", \"most\", \"my\", \"myself\", \"nor\", \"of\", \"on\", \"once\", \"only\", \"or\", \"other\", \"ought\", \"our\", \"ours\", \"ourselves\", \"out\", \"over\", \"own\", \"same\", \"she\", \"she'd\", \"she'll\", \"she's\", \"should\", \"so\", \"some\", \"such\", \"than\", \"that\", \"that's\", \"the\", \"their\", \"theirs\", \"them\", \"themselves\", \"then\", \"there\", \"there's\", \"these\", \"they\", \"they'd\", \"they'll\", \"they're\", \"they've\", \"this\", \"those\", \"through\", \"to\", \"too\", \"under\", \"until\", \"up\", \"very\", \"was\", \"we\", \"we'd\", \"we'll\", \"we're\", \"we've\", \"were\", \"what\", \"what's\", \"when\", \"when's\", \"where\", \"where's\", \"which\", \"while\", \"who\", \"who's\", \"whom\", \"why\", \"why's\", \"with\", \"would\", \"you\", \"you'd\", \"you'll\", \"you're\", \"you've\", \"your\", \"yours\", \"yourself\", \"yourselves\" ]\n",
    "NUM_WORDS = 1000\n",
    "EMBEDDING_DIM = 16\n",
    "MAXLEN = 120\n",
    "PADDING = 'post'\n",
    "OOV_TOKEN = \"<OOV>\"\n",
    "TRAINING_SPLIT = .8"
   ]
  },
  {
   "cell_type": "code",
   "execution_count": 4,
   "metadata": {},
   "outputs": [],
   "source": [
    "# File paths\n",
    "path='./learn-ai-bbc'\n",
    "train_path=os.path.join(path, 'BBC News Train.csv')\n",
    "sample_solution_path=os.path.join(path, 'BBC News Sample Solution.csv')"
   ]
  },
  {
   "cell_type": "code",
   "execution_count": 5,
   "metadata": {},
   "outputs": [],
   "source": [
    "def remove_stopwords(sentence):\n",
    "    sentence=sentence.lower()\n",
    "\n",
    "    words=sentence.split()\n",
    "    no_words=[w for w in words if w not in STOPWORDS]\n",
    "    sentence=' '.join(no_words)\n",
    "\n",
    "    return sentence\n",
    "\n",
    "def parse_data_from_file(filename):\n",
    "    sentences=[]\n",
    "    labels=[]\n",
    "\n",
    "    with open(filename, 'r') as csvfile:\n",
    "        reader = csv.reader(csvfile, delimiter=',')\n",
    "        next(reader)\n",
    "        for row in reader:\n",
    "            labels.append(row[2])\n",
    "\n",
    "            sentence=row[1]\n",
    "            sentence=remove_stopwords(sentence)\n",
    "            sentences.append(sentence)\n",
    "    \n",
    "    return sentences, labels"
   ]
  },
  {
   "cell_type": "code",
   "execution_count": 6,
   "metadata": {},
   "outputs": [
    {
     "name": "stdout",
     "output_type": "stream",
     "text": [
      "There are 1490 sentences in the dataset.\n",
      "\n",
      "First sentence has 203 words (after removing stopwords).\n",
      "\n",
      "There are 1490 labels in the dataset.\n",
      "\n",
      "The first 5 labels are ['business', 'business', 'business', 'tech', 'business']\n"
     ]
    }
   ],
   "source": [
    "sentences, labels=parse_data_from_file(train_path)\n",
    "\n",
    "print(f\"There are {len(sentences)} sentences in the dataset.\\n\")\n",
    "print(f\"First sentence has {len(sentences[0].split())} words (after removing stopwords).\\n\")\n",
    "print(f\"There are {len(labels)} labels in the dataset.\\n\")\n",
    "print(f\"The first 5 labels are {labels[:5]}\")"
   ]
  },
  {
   "cell_type": "code",
   "execution_count": 7,
   "metadata": {},
   "outputs": [],
   "source": [
    "def train_val_split(sentences, labels, training_split):\n",
    "    train_size=int(len(sentences)*training_split)\n",
    "\n",
    "    train_sentences=np.array(sentences[:train_size])\n",
    "    train_labels=np.array(labels[:train_size])\n",
    "\n",
    "    validation_sentances=np.array(sentences[train_size:])\n",
    "    validation_labels=np.array(labels[train_size:])\n",
    "\n",
    "    return train_sentences, train_labels, validation_sentances, validation_labels"
   ]
  },
  {
   "cell_type": "code",
   "execution_count": 8,
   "metadata": {},
   "outputs": [
    {
     "name": "stdout",
     "output_type": "stream",
     "text": [
      "There are 1192 sentences for training.\n",
      "\n",
      "There are 1192 labels for training.\n",
      "\n",
      "There are 298 sentences for validation.\n",
      "\n",
      "There are 298 labels for validation.\n"
     ]
    }
   ],
   "source": [
    "train_sentences, train_labels, validation_sentances, validation_labels=train_val_split(sentences, labels, TRAINING_SPLIT)\n",
    "\n",
    "print(f\"There are {len(train_sentences)} sentences for training.\\n\")\n",
    "print(f\"There are {len(train_labels)} labels for training.\\n\")\n",
    "print(f\"There are {len(validation_sentances)} sentences for validation.\\n\")\n",
    "print(f\"There are {len(validation_labels)} labels for validation.\")"
   ]
  },
  {
   "cell_type": "code",
   "execution_count": 9,
   "metadata": {},
   "outputs": [],
   "source": [
    "def fit_tokenizer(train_sentences, num_words, oov_token):\n",
    "\n",
    "    tokenizer=Tokenizer(num_words=num_words, oov_token=oov_token)\n",
    "    tokenizer.fit_on_texts(train_sentences)\n",
    "\n",
    "    return tokenizer"
   ]
  },
  {
   "cell_type": "code",
   "execution_count": 10,
   "metadata": {},
   "outputs": [
    {
     "name": "stdout",
     "output_type": "stream",
     "text": [
      "Vocabulary contains 22647 words\n",
      "\n",
      "<OOV> token included in vocabulary\n"
     ]
    }
   ],
   "source": [
    "tokenizer=fit_tokenizer(train_sentences, NUM_WORDS, OOV_TOKEN)\n",
    "word_idx=tokenizer.word_index\n",
    "\n",
    "print(f\"Vocabulary contains {len(word_idx)} words\\n\")\n",
    "print(\"<OOV> token included in vocabulary\" if \"<OOV>\" in word_idx else \"<OOV> token NOT included in vocabulary\")"
   ]
  },
  {
   "cell_type": "code",
   "execution_count": 11,
   "metadata": {},
   "outputs": [],
   "source": [
    "def seq_and_pad(sentences, tokenizer, padding, maxlen):\n",
    "    \n",
    "    sequences=tokenizer.texts_to_sequences(sentences)\n",
    "    padded_sequences=pad_sequences(sequences, padding=padding, maxlen=maxlen)\n",
    "\n",
    "    return padded_sequences"
   ]
  },
  {
   "cell_type": "code",
   "execution_count": 12,
   "metadata": {},
   "outputs": [
    {
     "name": "stdout",
     "output_type": "stream",
     "text": [
      "Padded training sequences have shape: (1192, 120)\n",
      "\n",
      "Padded validation sequences have shape: (298, 120)\n"
     ]
    }
   ],
   "source": [
    "train_padded_sequences=seq_and_pad(train_sentences, tokenizer, PADDING, MAXLEN)\n",
    "validation_padded_sequences=seq_and_pad(validation_sentances, tokenizer, PADDING, MAXLEN)\n",
    "\n",
    "print(f\"Padded training sequences have shape: {train_padded_sequences.shape}\\n\")\n",
    "print(f\"Padded validation sequences have shape: {validation_padded_sequences.shape}\")"
   ]
  },
  {
   "cell_type": "code",
   "execution_count": 13,
   "metadata": {},
   "outputs": [],
   "source": [
    "def tokenize_labels(labels, split_labels):\n",
    "    \n",
    "    label_tokenizer=Tokenizer()\n",
    "    label_tokenizer.fit_on_texts(labels)\n",
    "    label_idx=label_tokenizer.word_index\n",
    "    label_sequences=label_tokenizer.texts_to_sequences(split_labels)\n",
    "    label_sequences_array=np.array(label_sequences)-1\n",
    "\n",
    "    return label_sequences_array, label_idx"
   ]
  },
  {
   "cell_type": "code",
   "execution_count": 14,
   "metadata": {},
   "outputs": [
    {
     "name": "stdout",
     "output_type": "stream",
     "text": [
      "Tokenized labels of the training set have shape: (1192, 1)\n",
      "\n",
      "Tokenized labels of the validation set have shape: (298, 1)\n",
      "\n"
     ]
    }
   ],
   "source": [
    "train_label_sequences, label_idx=tokenize_labels(labels, train_labels)\n",
    "validation_label_sequences, label_idx=tokenize_labels(labels, validation_labels)\n",
    "\n",
    "print(f\"Tokenized labels of the training set have shape: {train_label_sequences.shape}\\n\")\n",
    "print(f\"Tokenized labels of the validation set have shape: {validation_label_sequences.shape}\\n\")"
   ]
  },
  {
   "cell_type": "code",
   "execution_count": 191,
   "metadata": {},
   "outputs": [],
   "source": [
    "def create_model(num_words, embedding_dim, maxlen):\n",
    "\n",
    "    tf.random.set_seed(123)\n",
    "\n",
    "    model=tf.keras.models.Sequential([\n",
    "        tf.keras.layers.Embedding(num_words, embedding_dim, input_length=maxlen),\n",
    "        tf.keras.layers.GlobalAveragePooling1D(),\n",
    "        tf.keras.layers.Dense(24, activation='relu'),\n",
    "        tf.keras.layers.Dense(5, activation='softmax')\n",
    "    ])\n",
    "\n",
    "    model.compile(loss='sparse_categorical_crossentropy',\n",
    "                  optimizer='adam',\n",
    "                  metrics=['accuracy'])\n",
    "\n",
    "    return model"
   ]
  },
  {
   "cell_type": "code",
   "execution_count": 192,
   "metadata": {},
   "outputs": [
    {
     "name": "stdout",
     "output_type": "stream",
     "text": [
      "Epoch 1/30\n",
      "38/38 [==============================] - 2s 17ms/step - loss: 1.6036 - accuracy: 0.2492 - val_loss: 1.5982 - val_accuracy: 0.2013\n",
      "Epoch 2/30\n",
      "38/38 [==============================] - 0s 5ms/step - loss: 1.5857 - accuracy: 0.2399 - val_loss: 1.5763 - val_accuracy: 0.2013\n",
      "Epoch 3/30\n",
      "38/38 [==============================] - 0s 5ms/step - loss: 1.5493 - accuracy: 0.3549 - val_loss: 1.5302 - val_accuracy: 0.3624\n",
      "Epoch 4/30\n",
      "38/38 [==============================] - 0s 6ms/step - loss: 1.4817 - accuracy: 0.4329 - val_loss: 1.4552 - val_accuracy: 0.3926\n",
      "Epoch 5/30\n",
      "38/38 [==============================] - 0s 6ms/step - loss: 1.3737 - accuracy: 0.4815 - val_loss: 1.3388 - val_accuracy: 0.4698\n",
      "Epoch 6/30\n",
      "38/38 [==============================] - 0s 7ms/step - loss: 1.2322 - accuracy: 0.5612 - val_loss: 1.1982 - val_accuracy: 0.5872\n",
      "Epoch 7/30\n",
      "38/38 [==============================] - 0s 5ms/step - loss: 1.0792 - accuracy: 0.6812 - val_loss: 1.0506 - val_accuracy: 0.7148\n",
      "Epoch 8/30\n",
      "38/38 [==============================] - 0s 6ms/step - loss: 0.9303 - accuracy: 0.7995 - val_loss: 0.9081 - val_accuracy: 0.8154\n",
      "Epoch 9/30\n",
      "38/38 [==============================] - 0s 6ms/step - loss: 0.7889 - accuracy: 0.8565 - val_loss: 0.7750 - val_accuracy: 0.8691\n",
      "Epoch 10/30\n",
      "38/38 [==============================] - 0s 5ms/step - loss: 0.6605 - accuracy: 0.9186 - val_loss: 0.6568 - val_accuracy: 0.8993\n",
      "Epoch 11/30\n",
      "38/38 [==============================] - 0s 5ms/step - loss: 0.5463 - accuracy: 0.9320 - val_loss: 0.5605 - val_accuracy: 0.9027\n",
      "Epoch 12/30\n",
      "38/38 [==============================] - 0s 6ms/step - loss: 0.4512 - accuracy: 0.9455 - val_loss: 0.4803 - val_accuracy: 0.9060\n",
      "Epoch 13/30\n",
      "38/38 [==============================] - 0s 6ms/step - loss: 0.3749 - accuracy: 0.9513 - val_loss: 0.4176 - val_accuracy: 0.9060\n",
      "Epoch 14/30\n",
      "38/38 [==============================] - 0s 6ms/step - loss: 0.3159 - accuracy: 0.9581 - val_loss: 0.3722 - val_accuracy: 0.9094\n",
      "Epoch 15/30\n",
      "38/38 [==============================] - 0s 6ms/step - loss: 0.2702 - accuracy: 0.9648 - val_loss: 0.3356 - val_accuracy: 0.9195\n",
      "Epoch 16/30\n",
      "38/38 [==============================] - 0s 5ms/step - loss: 0.2353 - accuracy: 0.9698 - val_loss: 0.3070 - val_accuracy: 0.9195\n",
      "Epoch 17/30\n",
      "38/38 [==============================] - 0s 5ms/step - loss: 0.2048 - accuracy: 0.9740 - val_loss: 0.2841 - val_accuracy: 0.9228\n",
      "Epoch 18/30\n",
      "38/38 [==============================] - 0s 5ms/step - loss: 0.1808 - accuracy: 0.9757 - val_loss: 0.2657 - val_accuracy: 0.9262\n",
      "Epoch 19/30\n",
      "38/38 [==============================] - 0s 5ms/step - loss: 0.1609 - accuracy: 0.9807 - val_loss: 0.2514 - val_accuracy: 0.9262\n",
      "Epoch 20/30\n",
      "38/38 [==============================] - 0s 6ms/step - loss: 0.1438 - accuracy: 0.9807 - val_loss: 0.2417 - val_accuracy: 0.9262\n",
      "Epoch 21/30\n",
      "38/38 [==============================] - 0s 7ms/step - loss: 0.1297 - accuracy: 0.9857 - val_loss: 0.2289 - val_accuracy: 0.9329\n",
      "Epoch 22/30\n",
      "38/38 [==============================] - 0s 7ms/step - loss: 0.1161 - accuracy: 0.9874 - val_loss: 0.2202 - val_accuracy: 0.9329\n",
      "Epoch 23/30\n",
      "38/38 [==============================] - 0s 5ms/step - loss: 0.1059 - accuracy: 0.9883 - val_loss: 0.2135 - val_accuracy: 0.9329\n",
      "Epoch 24/30\n",
      "38/38 [==============================] - 0s 5ms/step - loss: 0.0956 - accuracy: 0.9908 - val_loss: 0.2067 - val_accuracy: 0.9362\n",
      "Epoch 25/30\n",
      "38/38 [==============================] - 0s 5ms/step - loss: 0.0869 - accuracy: 0.9933 - val_loss: 0.2003 - val_accuracy: 0.9362\n",
      "Epoch 26/30\n",
      "38/38 [==============================] - 0s 5ms/step - loss: 0.0793 - accuracy: 0.9933 - val_loss: 0.1946 - val_accuracy: 0.9396\n",
      "Epoch 27/30\n",
      "38/38 [==============================] - 0s 6ms/step - loss: 0.0720 - accuracy: 0.9941 - val_loss: 0.1917 - val_accuracy: 0.9396\n",
      "Epoch 28/30\n",
      "38/38 [==============================] - 0s 5ms/step - loss: 0.0660 - accuracy: 0.9958 - val_loss: 0.1876 - val_accuracy: 0.9463\n",
      "Epoch 29/30\n",
      "38/38 [==============================] - 0s 6ms/step - loss: 0.0600 - accuracy: 0.9950 - val_loss: 0.1833 - val_accuracy: 0.9396\n",
      "Epoch 30/30\n",
      "38/38 [==============================] - 0s 6ms/step - loss: 0.0555 - accuracy: 0.9958 - val_loss: 0.1809 - val_accuracy: 0.9463\n"
     ]
    }
   ],
   "source": [
    "model=create_model(NUM_WORDS, EMBEDDING_DIM, MAXLEN)\n",
    "\n",
    "history=model.fit(train_padded_sequences, train_label_sequences, epochs=30, validation_data=(validation_padded_sequences, validation_label_sequences))"
   ]
  },
  {
   "cell_type": "code",
   "execution_count": 193,
   "metadata": {},
   "outputs": [
    {
     "data": {
      "image/png": "[encoded data removed]",
      "text/plain": [
       "<Figure size 432x288 with 1 Axes>"
      ]
     },
     "metadata": {
      "needs_background": "light"
     },
     "output_type": "display_data"
    },
    {
     "data": {
      "image/png": "[encoded data removed]",
      "text/plain": [
       "<Figure size 432x288 with 1 Axes>"
      ]
     },
     "metadata": {
      "needs_background": "light"
     },
     "output_type": "display_data"
    }
   ],
   "source": [
    "def plot_graphs(history, metric):\n",
    "\n",
    "    plt.plot(history.history[metric])\n",
    "    plt.plot(history.history[f'val_{metric}'])\n",
    "\n",
    "    plt.xlabel('Epochs')\n",
    "    plt.ylabel(metric)\n",
    "    plt.legend([metric, f'val_{metric}'])\n",
    "\n",
    "    plt.show()\n",
    "\n",
    "plot_graphs(history, 'accuracy')\n",
    "plot_graphs(history, 'loss')"
   ]
  },
  {
   "cell_type": "code",
   "execution_count": 15,
   "metadata": {},
   "outputs": [],
   "source": [
    "def test_preprocessing(path):\n",
    "    test_sentences, test_labels=parse_data_from_file(path)\n",
    "    test_sentences=np.array(test_sentences)\n",
    "    test_pad_seq=seq_and_pad(test_sentences, tokenizer, PADDING, MAXLEN)\n",
    "    test_labels_seq, _ = tokenize_labels(labels, test_labels)\n",
    "\n",
    "    return test_pad_seq, test_labels_seq, test_sentences"
   ]
  },
  {
   "cell_type": "code",
   "execution_count": 16,
   "metadata": {},
   "outputs": [],
   "source": [
    "test_pad_seq, test_labels_seq, test_sentences=test_preprocessing(os.path.join(path, 'test1.csv'))"
   ]
  },
  {
   "cell_type": "code",
   "execution_count": 17,
   "metadata": {},
   "outputs": [
    {
     "name": "stdout",
     "output_type": "stream",
     "text": [
      "2/2 [==============================] - 1s 14ms/step - loss: 0.1508 - accuracy: 0.9600\n"
     ]
    },
    {
     "data": {
      "text/plain": [
       "[0.15084847807884216, 0.9599999785423279]"
      ]
     },
     "execution_count": 17,
     "metadata": {},
     "output_type": "execute_result"
    }
   ],
   "source": [
    "model.evaluate(test_pad_seq,  test_labels_seq)"
   ]
  },
  {
   "cell_type": "code",
   "execution_count": 18,
   "metadata": {},
   "outputs": [],
   "source": [
    "model.save('model.h5')"
   ]
  },
  {
   "cell_type": "code",
   "execution_count": 72,
   "metadata": {},
   "outputs": [
    {
     "name": "stdout",
     "output_type": "stream",
     "text": [
      "{0: 'sport', 1: 'business', 2: 'politics', 3: 'entertainment', 4: 'tech'}\n"
     ]
    }
   ],
   "source": [
    "keys=list(label_idx.keys())\n",
    "values=list(label_idx.values())\n",
    "interpreter={}\n",
    "for i in range(len(values)):\n",
    "    interpreter[values[i]-1]=keys[i]\n",
    "\n",
    "print(interpreter)"
   ]
  },
  {
   "cell_type": "code",
   "execution_count": 85,
   "metadata": {},
   "outputs": [],
   "source": [
    "def interpretation(prediction):\n",
    "    new_pred=[]\n",
    "    for i in range(len(prediction)):\n",
    "        max_idx= np.where(prediction[i]==np.max(prediction[i]))[0][0]\n",
    "        new_pred.append([interpreter[max_idx]])\n",
    "    return new_pred"
   ]
  },
  {
   "cell_type": "code",
   "execution_count": 86,
   "metadata": {},
   "outputs": [
    {
     "name": "stdout",
     "output_type": "stream",
     "text": [
      "2/2 [==============================] - 0s 4ms/step\n",
      "['politics']\n",
      "['entertainment']\n",
      "['sport']\n",
      "['tech']\n",
      "['politics']\n",
      "['sport']\n",
      "['politics']\n",
      "['tech']\n",
      "['tech']\n",
      "['politics']\n",
      "['politics']\n",
      "['tech']\n",
      "['tech']\n",
      "['entertainment']\n",
      "['tech']\n",
      "['entertainment']\n",
      "['tech']\n",
      "['sport']\n",
      "['entertainment']\n",
      "['business']\n",
      "['entertainment']\n",
      "['sport']\n",
      "['entertainment']\n",
      "['sport']\n",
      "['entertainment']\n",
      "['business']\n",
      "['entertainment']\n",
      "['politics']\n",
      "['tech']\n",
      "['politics']\n",
      "['politics']\n",
      "['entertainment']\n",
      "['business']\n",
      "['tech']\n",
      "['sport']\n",
      "['sport']\n",
      "['entertainment']\n",
      "['politics']\n",
      "['tech']\n",
      "['business']\n",
      "['entertainment']\n",
      "['entertainment']\n",
      "['business']\n",
      "['business']\n",
      "['sport']\n",
      "['tech']\n",
      "['tech']\n",
      "['business']\n",
      "['entertainment']\n",
      "['tech']\n",
      "[['politics'], ['entertainment'], ['sport'], ['tech'], ['politics'], ['sport'], ['politics'], ['tech'], ['tech'], ['politics'], ['politics'], ['tech'], ['tech'], ['entertainment'], ['tech'], ['entertainment'], ['tech'], ['sport'], ['entertainment'], ['business'], ['entertainment'], ['sport'], ['entertainment'], ['sport'], ['entertainment'], ['business'], ['entertainment'], ['politics'], ['tech'], ['politics'], ['politics'], ['entertainment'], ['business'], ['tech'], ['sport'], ['sport'], ['entertainment'], ['politics'], ['tech'], ['business'], ['entertainment'], ['entertainment'], ['business'], ['business'], ['sport'], ['tech'], ['tech'], ['business'], ['entertainment'], ['tech']]\n"
     ]
    }
   ],
   "source": [
    "model=tf.keras.models.load_model('model.h5')\n",
    "prediction=model.predict(test_pad_seq)\n",
    "new_pred=interpretation(prediction)\n",
    "pred_df=pd.DataFrame()\n",
    "pred_df['Text']=list(test_sentences)\n",
    "pred_df['Category']=list(new_pred)\n",
    "\n",
    "pred_df.to_csv(os.path.join(path, 'prediction.csv'))"
   ]
  },
  {
   "cell_type": "code",
   "execution_count": null,
   "metadata": {},
   "outputs": [],
   "source": []
  }
 ],
 "metadata": {
  "kernelspec": {
   "display_name": "Python 3",
   "language": "python",
   "name": "python3"
  },
  "language_info": {
   "codemirror_mode": {
    "name": "ipython",
    "version": 3
   },
   "file_extension": ".py",
   "mimetype": "text/x-python",
   "name": "python",
   "nbconvert_exporter": "python",
   "pygments_lexer": "ipython3",
   "version": "3.10.0 (tags/v3.10.0:b494f59, Oct  4 2021, 19:00:18) [MSC v.1929 64 bit (AMD64)]"
  },
  "orig_nbformat": 4,
  "vscode": {
   "interpreter": {
    "hash": "26de051ba29f2982a8de78e945f0abaf191376122a1563185a90213a26c5da77"
   }
  }
 },
 "nbformat": 4,
 "nbformat_minor": 2
}
